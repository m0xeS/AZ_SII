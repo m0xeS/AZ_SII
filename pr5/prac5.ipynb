{
 "cells": [
  {
   "cell_type": "markdown",
   "metadata": {
    "id": "eD6w_L-5FA_D"
   },
   "source": [
    "# Практическое задание №5. Атака с ограниченной памятью (PGD - Projected Gradient Descent)\n",
    "## Выполнил студент группы ББМО-01-23 Морин Алексей Александрович"
   ]
  },
  {
   "cell_type": "markdown",
   "metadata": {
    "id": "tv8XBgqDFL3o"
   },
   "source": [
    "### 1. Загрузка обученной модели и данных MNIST"
   ]
  },
  {
   "cell_type": "code",
   "execution_count": 1,
   "metadata": {
    "colab": {
     "base_uri": "https://localhost:8080/"
    },
    "id": "5wgAZ7A1FRca",
    "outputId": "24ad6345-fa1d-4ddd-deac-d2f9ea2dddd3"
   },
   "outputs": [
    {
     "name": "stderr",
     "output_type": "stream",
     "text": [
      "WARNING:absl:Compiled the loaded model, but the compiled metrics have yet to be built. `model.compile_metrics` will be empty until you train or evaluate the model.\n"
     ]
    },
    {
     "name": "stdout",
     "output_type": "stream",
     "text": [
      "\u001b[1m313/313\u001b[0m \u001b[32m━━━━━━━━━━━━━━━━━━━━\u001b[0m\u001b[37m\u001b[0m \u001b[1m1s\u001b[0m 691us/step - accuracy: 0.9731 - loss: 0.0858\n",
      "Test accuracy on clean images: 0.9772999882698059\n"
     ]
    }
   ],
   "source": [
    "import tensorflow as tf\n",
    "from tensorflow.keras.datasets import mnist\n",
    "from tensorflow.keras.utils import to_categorical\n",
    "\n",
    "(_, _), (test_images, test_labels) = mnist.load_data()\n",
    "\n",
    "test_images = test_images / 255.0\n",
    "\n",
    "test_labels = to_categorical(test_labels, num_classes=10)\n",
    "\n",
    "model = tf.keras.models.load_model('mnist_model.h5')\n",
    "\n",
    "test_loss, test_acc = model.evaluate(test_images, test_labels)\n",
    "print(f'Test accuracy on clean images: {test_acc}')"
   ]
  },
  {
   "cell_type": "markdown",
   "metadata": {
    "id": "kkHn4fJVFbGg"
   },
   "source": [
    "### 2. Реализация атаки PGD с использованием Foolbox"
   ]
  },
  {
   "cell_type": "code",
   "execution_count": 2,
   "metadata": {
    "colab": {
     "base_uri": "https://localhost:8080/",
     "height": 375
    },
    "id": "aVm0EmxZF0-K",
    "outputId": "dc3287ea-6788-4d78-aa0b-6ef551b28716"
   },
   "outputs": [
    {
     "name": "stdout",
     "output_type": "stream",
     "text": [
      "WARNING:tensorflow:From d:\\anaconda\\Lib\\site-packages\\foolbox\\models\\tensorflow.py:13: is_gpu_available (from tensorflow.python.framework.test_util) is deprecated and will be removed in a future version.\n",
      "Instructions for updating:\n",
      "Use `tf.config.list_physical_devices('GPU')` instead.\n"
     ]
    },
    {
     "name": "stderr",
     "output_type": "stream",
     "text": [
      "WARNING:tensorflow:From d:\\anaconda\\Lib\\site-packages\\foolbox\\models\\tensorflow.py:13: is_gpu_available (from tensorflow.python.framework.test_util) is deprecated and will be removed in a future version.\n",
      "Instructions for updating:\n",
      "Use `tf.config.list_physical_devices('GPU')` instead.\n"
     ]
    },
    {
     "data": {
      "image/png": "[encoded data removed]",
      "text/plain": [
       "<Figure size 1000x500 with 2 Axes>"
      ]
     },
     "metadata": {},
     "output_type": "display_data"
    }
   ],
   "source": [
    "import torch\n",
    "import torch.nn as nn\n",
    "import foolbox as fb\n",
    "import numpy as np\n",
    "import matplotlib.pyplot as plt\n",
    "import tensorflow as tf\n",
    "\n",
    "fmodel = fb.TensorFlowModel(model, bounds=(0, 1))\n",
    "\n",
    "image = tf.convert_to_tensor(test_images[4], dtype=tf.float32)[None, ...]\n",
    "label = np.argmax(test_labels[0])\n",
    "label = tf.convert_to_tensor(label, dtype=tf.int64)\n",
    "\n",
    "# Выполнение атаки\n",
    "attack = fb.attacks.LinfPGD()\n",
    "advs, _, success = attack(fmodel, image, label[None], epsilons=0.1)\n",
    "\n",
    "# Вывод изображений\n",
    "plt.figure(figsize=(10, 5))\n",
    "\n",
    "plt.subplot(1, 2, 1)\n",
    "plt.title(\"Оригинальное изображение\")\n",
    "plt.imshow(image[0].numpy(), cmap=\"gray\")\n",
    "plt.axis('off')\n",
    "\n",
    "plt.subplot(1, 2, 2)\n",
    "plt.title(\"Противоречивое изображение (PGD)\")\n",
    "plt.imshow(advs[0].numpy(), cmap=\"gray\")\n",
    "plt.axis('off')\n",
    "\n",
    "plt.show()"
   ]
  },
  {
   "cell_type": "markdown",
   "metadata": {
    "id": "dkX1FojwHfCE"
   },
   "source": [
    "### 3. Оценка модели на противоречивых примерах"
   ]
  },
  {
   "cell_type": "code",
   "execution_count": 3,
   "metadata": {
    "colab": {
     "base_uri": "https://localhost:8080/"
    },
    "id": "ZCauEwuhHjDg",
    "outputId": "03d4296b-0f01-4db1-ac57-2930a87de184"
   },
   "outputs": [
    {
     "name": "stdout",
     "output_type": "stream",
     "text": [
      "\u001b[1m313/313\u001b[0m \u001b[32m━━━━━━━━━━━━━━━━━━━━\u001b[0m\u001b[37m\u001b[0m \u001b[1m0s\u001b[0m 710us/step - accuracy: 0.0533 - loss: 7.5889\n",
      "Accuracy on adversarial examples (PGD): 0.07190000265836716\n"
     ]
    }
   ],
   "source": [
    "adversarial_images = []\n",
    "\n",
    "for i in range(len(test_images)):\n",
    "    image = tf.convert_to_tensor(test_images[i], dtype=tf.float32)[None, ...]\n",
    "    label = np.argmax(test_labels[i])\n",
    "    label = tf.convert_to_tensor(label, dtype=tf.int64)\n",
    "    advs, _, success = attack(fmodel, image, label[None], epsilons=0.1)\n",
    "    adversarial_images.append(advs)\n",
    "\n",
    "adversarial_images = tf.concat(adversarial_images, axis=0)\n",
    "\n",
    "adversarial_loss, adversarial_acc = model.evaluate(adversarial_images, test_labels)\n",
    "print(f'Accuracy on adversarial examples (PGD): {adversarial_acc}')"
   ]
  },
  {
   "cell_type": "markdown",
   "metadata": {
    "id": "G3xy67TUIEsf"
   },
   "source": [
    "### Вывод\n",
    "\n",
    "Модель имеет уязвима к атакам типа PGD. Изначальная точность ~97%, однако после атаки наблюдается резкое снижение точности до 5%, что свидетельствует о том модель не устойчива к небольшим, но целенаправленным изменениям входных данных."
   ]
  }
 ],
 "metadata": {
  "colab": {
   "provenance": []
  },
  "kernelspec": {
   "display_name": "base",
   "language": "python",
   "name": "python3"
  },
  "language_info": {
   "codemirror_mode": {
    "name": "ipython",
    "version": 3
   },
   "file_extension": ".py",
   "mimetype": "text/x-python",
   "name": "python",
   "nbconvert_exporter": "python",
   "pygments_lexer": "ipython3",
   "version": "3.11.5"
  }
 },
 "nbformat": 4,
 "nbformat_minor": 0
}
