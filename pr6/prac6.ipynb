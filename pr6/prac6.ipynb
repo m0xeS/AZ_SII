{
 "cells": [
  {
   "cell_type": "markdown",
   "metadata": {
    "id": "FKl06fC8MqgR"
   },
   "source": [
    "# Практическая работа №6\n",
    "\n",
    "# Выполнил студент группы ББМО-01-23 Морин А.А.\n",
    "\n",
    "\n",
    "### Шаг 1. Загрузка и создание двух различных моделей"
   ]
  },
  {
   "cell_type": "code",
   "execution_count": 1,
   "metadata": {
    "colab": {
     "base_uri": "https://localhost:8080/"
    },
    "id": "Gt1lcHHdM2Qq",
    "outputId": "8f9cfdb0-cde6-4619-a257-0e5f53a91e34"
   },
   "outputs": [
    {
     "name": "stderr",
     "output_type": "stream",
     "text": [
      "d:\\anaconda\\Lib\\site-packages\\keras\\src\\layers\\reshaping\\flatten.py:37: UserWarning: Do not pass an `input_shape`/`input_dim` argument to a layer. When using Sequential models, prefer using an `Input(shape)` object as the first layer in the model instead.\n",
      "  super().__init__(**kwargs)\n"
     ]
    },
    {
     "name": "stdout",
     "output_type": "stream",
     "text": [
      "Epoch 1/5\n",
      "\u001b[1m1875/1875\u001b[0m \u001b[32m━━━━━━━━━━━━━━━━━━━━\u001b[0m\u001b[37m\u001b[0m \u001b[1m5s\u001b[0m 987us/step - accuracy: 0.8801 - loss: 0.4385\n",
      "Epoch 2/5\n",
      "\u001b[1m1875/1875\u001b[0m \u001b[32m━━━━━━━━━━━━━━━━━━━━\u001b[0m\u001b[37m\u001b[0m \u001b[1m2s\u001b[0m 941us/step - accuracy: 0.9638 - loss: 0.1253\n",
      "Epoch 3/5\n",
      "\u001b[1m1875/1875\u001b[0m \u001b[32m━━━━━━━━━━━━━━━━━━━━\u001b[0m\u001b[37m\u001b[0m \u001b[1m2s\u001b[0m 928us/step - accuracy: 0.9744 - loss: 0.0833\n",
      "Epoch 4/5\n",
      "\u001b[1m1875/1875\u001b[0m \u001b[32m━━━━━━━━━━━━━━━━━━━━\u001b[0m\u001b[37m\u001b[0m \u001b[1m2s\u001b[0m 917us/step - accuracy: 0.9834 - loss: 0.0567\n",
      "Epoch 5/5\n",
      "\u001b[1m1875/1875\u001b[0m \u001b[32m━━━━━━━━━━━━━━━━━━━━\u001b[0m\u001b[37m\u001b[0m \u001b[1m2s\u001b[0m 931us/step - accuracy: 0.9868 - loss: 0.0435\n"
     ]
    },
    {
     "name": "stderr",
     "output_type": "stream",
     "text": [
      "WARNING:absl:You are saving your model as an HDF5 file via `model.save()` or `keras.saving.save_model(model)`. This file format is considered legacy. We recommend using instead the native Keras format, e.g. `model.save('my_model.keras')` or `keras.saving.save_model(model, 'my_model.keras')`. \n",
      "d:\\anaconda\\Lib\\site-packages\\keras\\src\\layers\\convolutional\\base_conv.py:107: UserWarning: Do not pass an `input_shape`/`input_dim` argument to a layer. When using Sequential models, prefer using an `Input(shape)` object as the first layer in the model instead.\n",
      "  super().__init__(activity_regularizer=activity_regularizer, **kwargs)\n"
     ]
    },
    {
     "name": "stdout",
     "output_type": "stream",
     "text": [
      "Epoch 1/5\n",
      "\u001b[1m1875/1875\u001b[0m \u001b[32m━━━━━━━━━━━━━━━━━━━━\u001b[0m\u001b[37m\u001b[0m \u001b[1m12s\u001b[0m 6ms/step - accuracy: 0.9098 - loss: 0.3033\n",
      "Epoch 2/5\n",
      "\u001b[1m1875/1875\u001b[0m \u001b[32m━━━━━━━━━━━━━━━━━━━━\u001b[0m\u001b[37m\u001b[0m \u001b[1m11s\u001b[0m 6ms/step - accuracy: 0.9839 - loss: 0.0532\n",
      "Epoch 3/5\n",
      "\u001b[1m1875/1875\u001b[0m \u001b[32m━━━━━━━━━━━━━━━━━━━━\u001b[0m\u001b[37m\u001b[0m \u001b[1m11s\u001b[0m 6ms/step - accuracy: 0.9905 - loss: 0.0323\n",
      "Epoch 4/5\n",
      "\u001b[1m1875/1875\u001b[0m \u001b[32m━━━━━━━━━━━━━━━━━━━━\u001b[0m\u001b[37m\u001b[0m \u001b[1m10s\u001b[0m 6ms/step - accuracy: 0.9933 - loss: 0.0216\n",
      "Epoch 5/5\n",
      "\u001b[1m1875/1875\u001b[0m \u001b[32m━━━━━━━━━━━━━━━━━━━━\u001b[0m\u001b[37m\u001b[0m \u001b[1m10s\u001b[0m 6ms/step - accuracy: 0.9956 - loss: 0.0140\n"
     ]
    },
    {
     "name": "stderr",
     "output_type": "stream",
     "text": [
      "WARNING:absl:You are saving your model as an HDF5 file via `model.save()` or `keras.saving.save_model(model)`. This file format is considered legacy. We recommend using instead the native Keras format, e.g. `model.save('my_model.keras')` or `keras.saving.save_model(model, 'my_model.keras')`. \n"
     ]
    }
   ],
   "source": [
    "import tensorflow as tf\n",
    "from tensorflow.keras.datasets import mnist\n",
    "from tensorflow.keras.models import Sequential\n",
    "from tensorflow.keras.layers import Dense, Flatten, Conv2D, MaxPooling2D\n",
    "from tensorflow.keras.utils import to_categorical\n",
    "\n",
    "(train_images, train_labels), (test_images, test_labels) = mnist.load_data()\n",
    "\n",
    "train_images = train_images / 255.0\n",
    "test_images = test_images / 255.0\n",
    "\n",
    "train_labels = to_categorical(train_labels)\n",
    "test_labels = to_categorical(test_labels)\n",
    "\n",
    "# Модель 1: Простая полносвязная нейронная сеть\n",
    "model1 = Sequential([\n",
    "  Flatten(input_shape=(28, 28)),\n",
    "  Dense(128, activation='relu'),\n",
    "  Dense(10, activation='softmax')])\n",
    "\n",
    "model1.compile(optimizer='adam', loss='categorical_crossentropy', metrics= ['accuracy'])\n",
    "\n",
    "model1.fit(train_images, train_labels, epochs=5)\n",
    "\n",
    "model1.save('mnist_model_1.h5')\n",
    "\n",
    "# Модель 2: Свёрточная нейронная сеть\n",
    "model2 = Sequential([\n",
    "  Conv2D(32, (3, 3), activation='relu', input_shape=(28, 28, 1)),\n",
    "  MaxPooling2D((2, 2)),\n",
    "  Flatten(),\n",
    "  Dense(128, activation='relu'),\n",
    "  Dense(10, activation='softmax')])\n",
    "\n",
    "model2.compile(optimizer='adam', loss='categorical_crossentropy', metrics= ['accuracy'])\n",
    "\n",
    "model2.fit(train_images.reshape(-1, 28, 28, 1), train_labels, epochs=5)\n",
    "\n",
    "model2.save('mnist_model_2.h5')"
   ]
  },
  {
   "cell_type": "markdown",
   "metadata": {
    "id": "jJsiCu2_NCS_"
   },
   "source": [
    "### Шаг 2: Реализация атаки FGSM на первую модель"
   ]
  },
  {
   "cell_type": "code",
   "execution_count": 2,
   "metadata": {
    "colab": {
     "base_uri": "https://localhost:8080/"
    },
    "id": "lLuiTyrdd_1I",
    "outputId": "c4488f26-c655-4e63-adab-a3dce140ca4c"
   },
   "outputs": [
    {
     "name": "stdout",
     "output_type": "stream",
     "text": [
      "Shape of adversarial_images: (10000, 28, 28)\n"
     ]
    }
   ],
   "source": [
    "import numpy as np\n",
    "\n",
    "def fgsm_attack(image, epsilon, gradient):\n",
    "\n",
    "  perturbed_image = image + epsilon * np.sign(gradient)\n",
    "  perturbed_image = np.clip(perturbed_image, 0, 1)\n",
    "  return perturbed_image\n",
    "\n",
    "def generate_adversarial_example(model, image, label, epsilon):\n",
    "\n",
    "    image = tf.convert_to_tensor(image.reshape((1, 28, 28, 1)))\n",
    "\n",
    "    if len(label.shape) > 1 and label.shape[1] > 1:\n",
    "        label = np.argmax(label)\n",
    "    label = tf.convert_to_tensor(label)\n",
    "\n",
    "    with tf.GradientTape() as tape:\n",
    "        tape.watch(image)\n",
    "        prediction = model(image)\n",
    "        loss = tf.keras.losses.categorical_crossentropy(label[None], prediction)\n",
    "\n",
    "    gradient = tape.gradient(loss, image)\n",
    "\n",
    "\n",
    "    adversarial_image = fgsm_attack(image.numpy(), epsilon, gradient.numpy())\n",
    "\n",
    "    return np.reshape(adversarial_image, (28, 28, 1))\n",
    "\n",
    "def generate_adversarial_dataset(model, images, labels, epsilon):\n",
    "    adversarial_images = []\n",
    "    for i in range(len(images)):\n",
    "        adv_image = generate_adversarial_example(model, images[i], labels[i], epsilon)\n",
    "        adversarial_images.append(adv_image.reshape(28, 28))\n",
    "\n",
    "    adversarial_images = np.array(adversarial_images)\n",
    "\n",
    "    print(\"Shape of adversarial_images:\", adversarial_images.shape)\n",
    "\n",
    "    return adversarial_images\n",
    "\n",
    "\n",
    "# Генерация противоречивых примеров для первой модели\n",
    "epsilon = 0.1\n",
    "adversarial_images_model1 = generate_adversarial_dataset(model1, test_images, test_labels, epsilon)\n"
   ]
  },
  {
   "cell_type": "markdown",
   "metadata": {
    "id": "3i9N-vKjqBRj"
   },
   "source": [
    "### Шаг 3. Оценка противоречивых примеров на обеих моделях"
   ]
  },
  {
   "cell_type": "code",
   "execution_count": 3,
   "metadata": {
    "colab": {
     "base_uri": "https://localhost:8080/"
    },
    "id": "ySy0YHHJNWwo",
    "outputId": "8d6900eb-d568-41ac-c578-2191786c2b20"
   },
   "outputs": [
    {
     "name": "stdout",
     "output_type": "stream",
     "text": [
      "\u001b[1m313/313\u001b[0m \u001b[32m━━━━━━━━━━━━━━━━━━━━\u001b[0m\u001b[37m\u001b[0m \u001b[1m0s\u001b[0m 612us/step - accuracy: 0.0896 - loss: 6.5756\n",
      "Accuracy of model_1 on adversarial examples: 0.11909999698400497\n",
      "\u001b[1m313/313\u001b[0m \u001b[32m━━━━━━━━━━━━━━━━━━━━\u001b[0m\u001b[37m\u001b[0m \u001b[1m0s\u001b[0m 1ms/step - accuracy: 0.9603 - loss: 0.1358\n",
      "Accuracy of model_2 on adversarial examples from model1: 0.9670000076293945\n"
     ]
    }
   ],
   "source": [
    "# Оценка первой модели на противоречивых примерах\n",
    "loss1, acc1 = model1.evaluate(adversarial_images_model1, test_labels)\n",
    "print(f'Accuracy of model_1 on adversarial examples: {acc1}')\n",
    "\n",
    "# Оценка второй модели на противоречивых примерах (перенос атаки)\n",
    "adversarial_images_model1_reshaped = adversarial_images_model1.reshape(-1, 28, 28, 1)\n",
    "loss2, acc2 = model2.evaluate(adversarial_images_model1_reshaped, test_labels)\n",
    "print(f'Accuracy of model_2 on adversarial examples from model1: {acc2}')"
   ]
  },
  {
   "cell_type": "markdown",
   "metadata": {
    "id": "6Akot1nnZck6"
   },
   "source": [
    "### Шаг 4: Анализ переносимости атак"
   ]
  },
  {
   "cell_type": "code",
   "execution_count": 4,
   "metadata": {
    "colab": {
     "base_uri": "https://localhost:8080/"
    },
    "id": "LGP6uDGAZvJX",
    "outputId": "c19ae1e0-3dd7-48e7-91d3-1931acb7a0aa"
   },
   "outputs": [
    {
     "name": "stdout",
     "output_type": "stream",
     "text": [
      "Shape of adversarial_images: (10000, 28, 28)\n",
      "\u001b[1m313/313\u001b[0m \u001b[32m━━━━━━━━━━━━━━━━━━━━\u001b[0m\u001b[37m\u001b[0m \u001b[1m0s\u001b[0m 692us/step - accuracy: 0.9235 - loss: 0.2604\n",
      "Accuracy of model1 on adversarial examples from model2: 0.9377999901771545\n"
     ]
    }
   ],
   "source": [
    "adversarial_images_model2 = generate_adversarial_dataset(model2,\n",
    "test_images.reshape(-1, 28, 28, 1), test_labels, epsilon)\n",
    "\n",
    "# Оценка первой модели на противоречивых примерах второй модели\n",
    "loss3, acc3 = model1.evaluate(adversarial_images_model2.reshape(-1, 28, 28), test_labels)\n",
    "print(f'Accuracy of model1 on adversarial examples from model2: {acc3}')"
   ]
  },
  {
   "cell_type": "markdown",
   "metadata": {
    "id": "cq9s_3FMEsj3"
   },
   "source": [
    "### Вывод:\n",
    "В ходе выполнения работы было исследовано воздействие атаки по переносу, при которой противоречивые примеры, сгенерированные для одной модели, использовались для атаки на другую. Для реализации атаки использовался метод FGSM\n",
    "\n",
    "В результате было выявлено, что модель 1, на которой были сгенерированы противоречивые примеры с использованием FGSM, продемонстрировала ощутимое падение точности с 98% до 8%, что свидетельствует о её высокой уязвимости к данной атаке. Модель 2 показала гораздо меньший эффект от атаки — её точность снизилась лишь на ~3%, что указывает на большую устойчивость к переносу атак, созданных для другой модели.\n",
    "\n",
    "Дополнительно были сгенерированы противоречивые примеры с использованием FGSM для модели 2, и они были протестированы на модели 1. В этом случае точность модели 1 также снизилась, но падение составляет около 5%.\n",
    "\n",
    "Атака по переносу с использованием FGSM может существенно ослабить точность модели, особенно если примеры сгенерированы для неё самой. Другая модель, показавшая более высокую устойчивость, остаётся менее подверженной таким атакам."
   ]
  }
 ],
 "metadata": {
  "accelerator": "GPU",
  "colab": {
   "gpuType": "T4",
   "provenance": []
  },
  "kernelspec": {
   "display_name": "base",
   "language": "python",
   "name": "python3"
  },
  "language_info": {
   "codemirror_mode": {
    "name": "ipython",
    "version": 3
   },
   "file_extension": ".py",
   "mimetype": "text/x-python",
   "name": "python",
   "nbconvert_exporter": "python",
   "pygments_lexer": "ipython3",
   "version": "3.11.5"
  }
 },
 "nbformat": 4,
 "nbformat_minor": 0
}
